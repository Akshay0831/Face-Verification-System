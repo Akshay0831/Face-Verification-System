{
 "cells": [
  {
   "cell_type": "markdown",
   "id": "cb82152b",
   "metadata": {},
   "source": [
    "# Theft Prevention using AI"
   ]
  },
  {
   "cell_type": "code",
   "execution_count": 1,
   "id": "b14d117c",
   "metadata": {},
   "outputs": [],
   "source": [
    "import numpy as np\n",
    "import cv2\n",
    "import os\n",
    "import smtplib\n",
    "import time\n",
    "from scipy.spatial.distance import cosine\n",
    "\n",
    "from keras.models import Model, Sequential\n",
    "from keras.layers import Input, Conv2D, ZeroPadding2D, MaxPooling2D, Flatten, Dropout, Activation\n",
    "from keras.applications.imagenet_utils import preprocess_input\n",
    "from keras.preprocessing import image\n",
    "from keras.models import model_from_json"
   ]
  },
  {
   "cell_type": "code",
   "execution_count": 2,
   "id": "30c5e0b7",
   "metadata": {},
   "outputs": [
    {
     "data": {
      "text/plain": [
       "(235, b'2.7.0 Accepted')"
      ]
     },
     "execution_count": 2,
     "metadata": {},
     "output_type": "execute_result"
    }
   ],
   "source": [
    "sender = \"ar7972278@gmail.com\"\n",
    "reciever = \"ar7972278@gmail.com\"\n",
    "password = \"pysmtp2278\"\n",
    "\n",
    "server = smtplib.SMTP('smtp.gmail.com', 587)\n",
    "server.starttls()\n",
    "server.login(sender, password)"
   ]
  },
  {
   "cell_type": "code",
   "execution_count": 3,
   "id": "01cec29b",
   "metadata": {
    "scrolled": true
   },
   "outputs": [],
   "source": [
    "face_cascade = cv2.CascadeClassifier('haarcascade_frontalface_default.xml')\n",
    "def save_user():\n",
    "    capture = cv2.VideoCapture(0)\n",
    "    count = len(os.listdir(\"data\"))\n",
    "    while True:\n",
    "        _, image = capture.read()\n",
    "        gray = cv2.cvtColor(image, cv2.COLOR_BGR2GRAY)\n",
    "        faces = face_cascade.detectMultiScale(gray, 1.3, 5)\n",
    "        for (x, y, w, h) in faces:\n",
    "            # the bounding box around the detected object\n",
    "            cv2.rectangle(image, (x, y), (x+w, y+h), (255, 255, 255), 3)\n",
    "            face = cv2.resize(gray[y:y+h, x:x+w], (224, 224))\n",
    "            cv2.putText(face, str(count), (x, y), cv2.FONT_HERSHEY_SIMPLEX, 1, (255, 255, 255), 2)\n",
    "        if cv2.waitKey(15)==13 :\n",
    "            break\n",
    "        if cv2.waitKey(1) & 0xFF == ord('s'):\n",
    "            file_path = \"data/\"+str(count)+\".jpg\"\n",
    "            cv2.imwrite(file_path, face)\n",
    "            count+=1\n",
    "        cv2.imshow('face frame', image)\n",
    "    capture.release()\n",
    "    cv2.destroyAllWindows()"
   ]
  },
  {
   "cell_type": "code",
   "execution_count": 4,
   "id": "15a8de4d",
   "metadata": {},
   "outputs": [],
   "source": [
    "save_user()"
   ]
  },
  {
   "cell_type": "code",
   "execution_count": 5,
   "id": "78ec49e1",
   "metadata": {},
   "outputs": [],
   "source": [
    "def compare(face1, face2):\n",
    "    score = cosine(face1, face2)\n",
    "    return score"
   ]
  },
  {
   "cell_type": "code",
   "execution_count": 6,
   "id": "be9b8afc",
   "metadata": {},
   "outputs": [],
   "source": [
    "def preprocess_image(image_path):\n",
    "    img = image.load_img(image_path, target_size=(224, 224))\n",
    "    img = image.img_to_array(img)\n",
    "    img = np.expand_dims(img, axis=0)\n",
    "\n",
    "    img = preprocess_input(img)\n",
    "    return img"
   ]
  },
  {
   "cell_type": "code",
   "execution_count": 7,
   "id": "f7454c21",
   "metadata": {},
   "outputs": [],
   "source": [
    "model = Sequential()\n",
    "model.add(ZeroPadding2D((1, 1), input_shape=(224, 224, 3)))\n",
    "model.add(Conv2D(64, (3, 3), activation='relu'))\n",
    "model.add(ZeroPadding2D((1, 1)))\n",
    "model.add(Conv2D(64, (3, 3), activation='relu'))\n",
    "model.add(MaxPooling2D((2, 2), strides=(2, 2)))\n",
    "\n",
    "model.add(ZeroPadding2D((1, 1)))\n",
    "model.add(Conv2D(128, (3, 3), activation='relu'))\n",
    "model.add(ZeroPadding2D((1, 1)))\n",
    "model.add(Conv2D(128, (3, 3), activation='relu'))\n",
    "model.add(MaxPooling2D((2, 2), strides=(2, 2)))\n",
    "\n",
    "model.add(ZeroPadding2D((1, 1)))\n",
    "model.add(Conv2D(256, (3, 3), activation='relu'))\n",
    "model.add(ZeroPadding2D((1, 1)))\n",
    "model.add(Conv2D(256, (3, 3), activation='relu'))\n",
    "model.add(ZeroPadding2D((1, 1)))\n",
    "model.add(Conv2D(256, (3, 3), activation='relu'))\n",
    "model.add(MaxPooling2D((2, 2), strides=(2, 2)))\n",
    "\n",
    "model.add(ZeroPadding2D((1, 1)))\n",
    "model.add(Conv2D(512, (3, 3), activation='relu'))\n",
    "model.add(ZeroPadding2D((1, 1)))\n",
    "model.add(Conv2D(512, (3, 3), activation='relu'))\n",
    "model.add(ZeroPadding2D((1, 1)))\n",
    "model.add(Conv2D(512, (3, 3), activation='relu'))\n",
    "model.add(MaxPooling2D((2, 2), strides=(2, 2)))\n",
    "\n",
    "model.add(ZeroPadding2D((1, 1)))\n",
    "model.add(Conv2D(512, (3, 3), activation='relu'))\n",
    "model.add(ZeroPadding2D((1, 1)))\n",
    "model.add(Conv2D(512, (3, 3), activation='relu'))\n",
    "model.add(ZeroPadding2D((1, 1)))\n",
    "model.add(Conv2D(512, (3, 3), activation='relu'))\n",
    "model.add(MaxPooling2D((2, 2), strides=(2, 2)))\n",
    "\n",
    "model.add(Conv2D(4096, (7, 7), activation='relu'))\n",
    "model.add(Dropout(0.5))\n",
    "model.add(Conv2D(4096, (1, 1), activation='relu'))\n",
    "model.add(Dropout(0.5))\n",
    "model.add(Conv2D(2622, (1, 1)))\n",
    "model.add(Flatten())\n",
    "model.add(Activation('softmax'))\n",
    "model.load_weights('vgg_face_weights.h5') # Model Link: https://drive.google.com/file/d/1CPSeum3HpopfomUEK1gybeuIVoeJT_Eo/view?usp=sharing\n",
    "model.compile(loss='categorical_crossentropy', optimizer='adam', metrics=['accuracy'])\n",
    "model = Model(inputs=model.layers[0].input, outputs=model.layers[-2].output)\n"
   ]
  },
  {
   "cell_type": "code",
   "execution_count": 8,
   "id": "cffb0fb5",
   "metadata": {},
   "outputs": [],
   "source": [
    "valids = list()\n",
    "for filename in os.listdir(\"data\"):\n",
    "    valids.append(model.predict(preprocess_image(\"data/\"+filename)))"
   ]
  },
  {
   "cell_type": "code",
   "execution_count": 9,
   "id": "9d101e2f",
   "metadata": {},
   "outputs": [],
   "source": [
    "cap = cv2.VideoCapture(0)\n",
    "intruder_pics = list()\n",
    "max_intruders = 0\n",
    "last_sent = 0;\n",
    "cnt = 0;\n",
    "while (True):\n",
    "    _, img = cap.read()\n",
    "    \n",
    "    gray = cv2.cvtColor(img, cv2.COLOR_BGR2GRAY)\n",
    "    faces = face_cascade.detectMultiScale(gray, 1.3, 5)\n",
    "    if faces is None:\n",
    "        continue\n",
    "    \n",
    "    intruders = 0\n",
    "    for (x, y, w, h) in faces:\n",
    "        cv2.rectangle(img, (x,y), (x+w,y+h), (255,0,0), 2)\n",
    "        cap_face = cv2.resize(img[y:y+h, x:x+w], (224, 224))\n",
    "\n",
    "        img_data = image.img_to_array(cap_face)\n",
    "        img_data = np.expand_dims(img_data, axis=0)/255.0\n",
    "\n",
    "        captured_embeddings = model.predict(img_data)[0, :]\n",
    "\n",
    "        found = 0\n",
    "        for i in valids:\n",
    "            embeddings = i\n",
    "\n",
    "            score = compare(embeddings, captured_embeddings)\n",
    "            if (score < 0.45):\n",
    "                cv2.putText(img, \"Valid\", (x+w, y-12), cv2.FONT_HERSHEY_SIMPLEX, 1, (0, 255, 0), 2)\n",
    "                found = 1\n",
    "                break\n",
    "\n",
    "        if (found == 0):\n",
    "            cv2.putText(img, \"Intruder\", (x+w, y-12), cv2.FONT_HERSHEY_SIMPLEX, 1, (0, 0, 255), 2)\n",
    "            intruders+=1\n",
    "            intruder_pics.append(cap_face)\n",
    "            message=\"Subject: Intruders!!!\\n\\nThere are people without validation near you place\"\n",
    "            if last_sent+300 <= time.time():\n",
    "                server.sendmail(sender, reciever, message)\n",
    "                last_sent = time.time()\n",
    "                file_path = \"intruders\\\\\"+str(cnt)+\".jpg\"\n",
    "                cnt+=1\n",
    "                cv2.imwrite(file_path, img)\n",
    "        if max_intruders<intruders:\n",
    "            max_intruders = intruders\n",
    "        cv2.putText(img, \"Count:\"+str(max_intruders), (x, y), cv2.FONT_HERSHEY_SIMPLEX, 1, (0, 0, 255), 2)\n",
    "    cv2.imshow('img', img)\n",
    "\n",
    "    if cv2.waitKey(10) & 0xFF == 13:\n",
    "        break\n",
    "\n",
    "cap.release()\n",
    "cv2.destroyAllWindows()"
   ]
  },
  {
   "cell_type": "code",
   "execution_count": null,
   "id": "7aa634ac",
   "metadata": {},
   "outputs": [],
   "source": []
  }
 ],
 "metadata": {
  "kernelspec": {
   "display_name": "Python 3",
   "language": "python",
   "name": "python3"
  },
  "language_info": {
   "codemirror_mode": {
    "name": "ipython",
    "version": 3
   },
   "file_extension": ".py",
   "mimetype": "text/x-python",
   "name": "python",
   "nbconvert_exporter": "python",
   "pygments_lexer": "ipython3",
   "version": "3.8.10"
  }
 },
 "nbformat": 4,
 "nbformat_minor": 5
}
